{
 "cells": [
  {
   "cell_type": "markdown",
   "id": "e363d3ea-e8e1-44d7-9b1f-355a272ce57d",
   "metadata": {},
   "source": [
    "## Forecasting in the M4 Competition\n",
    "\n",
    "This tutorial demonstrates how to quickly start using AutoGluon to generate hourly forecasts for the M4 forecasting competition. Also check out the AutoGluon-TimeSeries [cheat sheet](https://auto.gluon.ai/stable/cheatsheet.html#time-series)."
   ]
  },
  {
   "cell_type": "code",
   "execution_count": null,
   "id": "6571efd4-b5dc-4705-8c1b-d940a65066e8",
   "metadata": {},
   "outputs": [],
   "source": [
    "#!pip install autogluon==0.6.1"
   ]
  },
  {
   "cell_type": "code",
   "execution_count": 1,
   "id": "ed27c728-0801-41b9-863e-99ba2dfba422",
   "metadata": {},
   "outputs": [],
   "source": [
    "import pandas as pd\n",
    "import matplotlib.pyplot as plt\n",
    "\n",
    "from autogluon.timeseries import TimeSeriesDataFrame, TimeSeriesPredictor"
   ]
  },
  {
   "cell_type": "markdown",
   "id": "04f0557f-c030-4f92-b07b-0f56aa8f8065",
   "metadata": {},
   "source": [
    "To use autogluon.timeseries, we will only need the following two classes:\n",
    "\n",
    "- `TimeSeriesDataFrame` stores a dataset consisting of multiple time series.\n",
    "- `TimeSeriesPredictor` takes care of fitting, tuning and selecting the best forecasting models, as well as generating new forecasts.\n",
    "\n",
    "We will first read the data into a pandas data frame and then load it in a `TimeSeriesDataFrame` to use AutoGluon-TimeSeries."
   ]
  },
  {
   "cell_type": "code",
   "execution_count": 2,
   "id": "37048dce-79c0-4d51-bd33-1edf69c03e6d",
   "metadata": {},
   "outputs": [
    {
     "data": {
      "text/html": [
       "<div>\n",
       "<style scoped>\n",
       "    .dataframe tbody tr th:only-of-type {\n",
       "        vertical-align: middle;\n",
       "    }\n",
       "\n",
       "    .dataframe tbody tr th {\n",
       "        vertical-align: top;\n",
       "    }\n",
       "\n",
       "    .dataframe thead th {\n",
       "        text-align: right;\n",
       "    }\n",
       "</style>\n",
       "<table border=\"1\" class=\"dataframe\">\n",
       "  <thead>\n",
       "    <tr style=\"text-align: right;\">\n",
       "      <th></th>\n",
       "      <th>M4id</th>\n",
       "      <th>Date</th>\n",
       "      <th>Value</th>\n",
       "    </tr>\n",
       "  </thead>\n",
       "  <tbody>\n",
       "    <tr>\n",
       "      <th>0</th>\n",
       "      <td>D1737</td>\n",
       "      <td>1995-05-23 12:00:00</td>\n",
       "      <td>1900.0</td>\n",
       "    </tr>\n",
       "    <tr>\n",
       "      <th>1</th>\n",
       "      <td>D1737</td>\n",
       "      <td>1995-05-24 12:00:00</td>\n",
       "      <td>1877.0</td>\n",
       "    </tr>\n",
       "    <tr>\n",
       "      <th>2</th>\n",
       "      <td>D1737</td>\n",
       "      <td>1995-05-25 12:00:00</td>\n",
       "      <td>1873.0</td>\n",
       "    </tr>\n",
       "    <tr>\n",
       "      <th>3</th>\n",
       "      <td>D1737</td>\n",
       "      <td>1995-05-26 12:00:00</td>\n",
       "      <td>1859.0</td>\n",
       "    </tr>\n",
       "    <tr>\n",
       "      <th>4</th>\n",
       "      <td>D1737</td>\n",
       "      <td>1995-05-27 12:00:00</td>\n",
       "      <td>1876.0</td>\n",
       "    </tr>\n",
       "    <tr>\n",
       "      <th>...</th>\n",
       "      <td>...</td>\n",
       "      <td>...</td>\n",
       "      <td>...</td>\n",
       "    </tr>\n",
       "    <tr>\n",
       "      <th>244455</th>\n",
       "      <td>D2345</td>\n",
       "      <td>2013-07-04 12:00:00</td>\n",
       "      <td>10391.5</td>\n",
       "    </tr>\n",
       "    <tr>\n",
       "      <th>244456</th>\n",
       "      <td>D2345</td>\n",
       "      <td>2013-07-05 12:00:00</td>\n",
       "      <td>10361.4</td>\n",
       "    </tr>\n",
       "    <tr>\n",
       "      <th>244457</th>\n",
       "      <td>D2345</td>\n",
       "      <td>2013-07-06 12:00:00</td>\n",
       "      <td>10285.4</td>\n",
       "    </tr>\n",
       "    <tr>\n",
       "      <th>244458</th>\n",
       "      <td>D2345</td>\n",
       "      <td>2013-07-07 12:00:00</td>\n",
       "      <td>10135.9</td>\n",
       "    </tr>\n",
       "    <tr>\n",
       "      <th>244459</th>\n",
       "      <td>D2345</td>\n",
       "      <td>2013-07-08 12:00:00</td>\n",
       "      <td>10201.5</td>\n",
       "    </tr>\n",
       "  </tbody>\n",
       "</table>\n",
       "<p>244460 rows × 3 columns</p>\n",
       "</div>"
      ],
      "text/plain": [
       "         M4id                Date    Value\n",
       "0       D1737 1995-05-23 12:00:00   1900.0\n",
       "1       D1737 1995-05-24 12:00:00   1877.0\n",
       "2       D1737 1995-05-25 12:00:00   1873.0\n",
       "3       D1737 1995-05-26 12:00:00   1859.0\n",
       "4       D1737 1995-05-27 12:00:00   1876.0\n",
       "...       ...                 ...      ...\n",
       "244455  D2345 2013-07-04 12:00:00  10391.5\n",
       "244456  D2345 2013-07-05 12:00:00  10361.4\n",
       "244457  D2345 2013-07-06 12:00:00  10285.4\n",
       "244458  D2345 2013-07-07 12:00:00  10135.9\n",
       "244459  D2345 2013-07-08 12:00:00  10201.5\n",
       "\n",
       "[244460 rows x 3 columns]"
      ]
     },
     "execution_count": 2,
     "metadata": {},
     "output_type": "execute_result"
    }
   ],
   "source": [
    "df = pd.read_csv(\n",
    "    \"https://autogluon-timeseries-datasets.s3.us-west-2.amazonaws.com/public/m4_daily/m4_daily_subsample.csv\",\n",
    "    parse_dates=[\"Date\"],  # make sure that pandas parses the dates\n",
    ")\n",
    "df"
   ]
  },
  {
   "cell_type": "markdown",
   "id": "11eab2da-ae2c-4ed3-ad7a-7dcd5a0e83a8",
   "metadata": {},
   "source": [
    "The M4 dataset contains time series from various domains like finance, demography and economics.\n",
    "Our goal is to forecast the future values of each time series in the dataset given the past observations.\n",
    "Each row of the data frame contains a single observation (timestep) of a single time series represented by\n",
    "- unique ID of the time series (`\"M4id\"`)\n",
    "- timestamp of the observation (`\"Date\"`) as a `pandas.Timestamp`\n",
    "- numeric value of the time series (`\"Value\"`)\n",
    "\n",
    "\n",
    "The raw dataset should always follow this format with at least three columns for unique ID, timestamp, and target value, but the names of these columns can be arbitrary.\n",
    "It is important, however, that we provide the names of the columns when constructing a `TimeSeriesDataFrame` that is used by AutoGluon.\n",
    "AutoGluon will raise an exception if the data doesn't match the expected format.\n"
   ]
  },
  {
   "cell_type": "code",
   "execution_count": 3,
   "id": "33362dbb-c0a0-494d-92f6-39ac23ad2611",
   "metadata": {},
   "outputs": [
    {
     "data": {
      "text/html": [
       "<div>\n",
       "<style scoped>\n",
       "    .dataframe tbody tr th:only-of-type {\n",
       "        vertical-align: middle;\n",
       "    }\n",
       "\n",
       "    .dataframe tbody tr th {\n",
       "        vertical-align: top;\n",
       "    }\n",
       "\n",
       "    .dataframe thead th {\n",
       "        text-align: right;\n",
       "    }\n",
       "</style>\n",
       "<table border=\"1\" class=\"dataframe\">\n",
       "  <thead>\n",
       "    <tr style=\"text-align: right;\">\n",
       "      <th></th>\n",
       "      <th></th>\n",
       "      <th>Value</th>\n",
       "    </tr>\n",
       "    <tr>\n",
       "      <th>item_id</th>\n",
       "      <th>timestamp</th>\n",
       "      <th></th>\n",
       "    </tr>\n",
       "  </thead>\n",
       "  <tbody>\n",
       "    <tr>\n",
       "      <th rowspan=\"5\" valign=\"top\">D1737</th>\n",
       "      <th>1995-05-23 12:00:00</th>\n",
       "      <td>1900.0</td>\n",
       "    </tr>\n",
       "    <tr>\n",
       "      <th>1995-05-24 12:00:00</th>\n",
       "      <td>1877.0</td>\n",
       "    </tr>\n",
       "    <tr>\n",
       "      <th>1995-05-25 12:00:00</th>\n",
       "      <td>1873.0</td>\n",
       "    </tr>\n",
       "    <tr>\n",
       "      <th>1995-05-26 12:00:00</th>\n",
       "      <td>1859.0</td>\n",
       "    </tr>\n",
       "    <tr>\n",
       "      <th>1995-05-27 12:00:00</th>\n",
       "      <td>1876.0</td>\n",
       "    </tr>\n",
       "    <tr>\n",
       "      <th>...</th>\n",
       "      <th>...</th>\n",
       "      <td>...</td>\n",
       "    </tr>\n",
       "    <tr>\n",
       "      <th rowspan=\"5\" valign=\"top\">D2345</th>\n",
       "      <th>2013-07-04 12:00:00</th>\n",
       "      <td>10391.5</td>\n",
       "    </tr>\n",
       "    <tr>\n",
       "      <th>2013-07-05 12:00:00</th>\n",
       "      <td>10361.4</td>\n",
       "    </tr>\n",
       "    <tr>\n",
       "      <th>2013-07-06 12:00:00</th>\n",
       "      <td>10285.4</td>\n",
       "    </tr>\n",
       "    <tr>\n",
       "      <th>2013-07-07 12:00:00</th>\n",
       "      <td>10135.9</td>\n",
       "    </tr>\n",
       "    <tr>\n",
       "      <th>2013-07-08 12:00:00</th>\n",
       "      <td>10201.5</td>\n",
       "    </tr>\n",
       "  </tbody>\n",
       "</table>\n",
       "<p>244460 rows × 1 columns</p>\n",
       "</div>"
      ],
      "text/plain": [
       "                               Value\n",
       "item_id timestamp                   \n",
       "D1737   1995-05-23 12:00:00   1900.0\n",
       "        1995-05-24 12:00:00   1877.0\n",
       "        1995-05-25 12:00:00   1873.0\n",
       "        1995-05-26 12:00:00   1859.0\n",
       "        1995-05-27 12:00:00   1876.0\n",
       "...                              ...\n",
       "D2345   2013-07-04 12:00:00  10391.5\n",
       "        2013-07-05 12:00:00  10361.4\n",
       "        2013-07-06 12:00:00  10285.4\n",
       "        2013-07-07 12:00:00  10135.9\n",
       "        2013-07-08 12:00:00  10201.5\n",
       "\n",
       "[244460 rows x 1 columns]"
      ]
     },
     "execution_count": 3,
     "metadata": {},
     "output_type": "execute_result"
    }
   ],
   "source": [
    "ts_dataframe = TimeSeriesDataFrame.from_data_frame(\n",
    "    df,\n",
    "    id_column=\"M4id\",  # column that contains unique ID of each time series\n",
    "    timestamp_column=\"Date\",  # column that contains timestamps of each observation\n",
    ")\n",
    "ts_dataframe"
   ]
  },
  {
   "cell_type": "markdown",
   "id": "b0466bdd-eda2-442a-b005-a255d3d1b3f3",
   "metadata": {},
   "source": [
    "We refer to each individual time series stored in a `TimeSeriesDataFrame` as an _item_.\n",
    "For example, items might correspond to different products in demand forecasting, or to different stocks in financial datasets.\n",
    "This setting is also referred to as a _panel_ of time series.\n",
    "Note that this is *not* the same as multivariate forecasting — AutoGluon generates forecasts for each time series individually, without modeling interactions between different items (time series).\n",
    "\n",
    "`TimeSeriesDataFrame` inherits from [pandas.DataFrame](https://pandas.pydata.org/pandas-docs/stable/reference/api/pandas.DataFrame.html), so all attributes and methods of `pandas.DataFrame` are also available in a `TimeSeriesDataFrame`.\n",
    "Note how `TimeSeriesDataFrame` organizes the data with a `pandas.MultiIndex`: the first _level_ of the index corresponds to the item ID and the second level contains the timestamp when each observation was made.\n",
    "For example, we can use the `loc` accessor to access each individual time series."
   ]
  },
  {
   "cell_type": "code",
   "execution_count": 4,
   "id": "4db6087c-b903-44e4-bbbc-97905636e574",
   "metadata": {},
   "outputs": [
    {
     "data": {
      "text/html": [
       "<div>\n",
       "<style scoped>\n",
       "    .dataframe tbody tr th:only-of-type {\n",
       "        vertical-align: middle;\n",
       "    }\n",
       "\n",
       "    .dataframe tbody tr th {\n",
       "        vertical-align: top;\n",
       "    }\n",
       "\n",
       "    .dataframe thead th {\n",
       "        text-align: right;\n",
       "    }\n",
       "</style>\n",
       "<table border=\"1\" class=\"dataframe\">\n",
       "  <thead>\n",
       "    <tr style=\"text-align: right;\">\n",
       "      <th></th>\n",
       "      <th>Value</th>\n",
       "    </tr>\n",
       "    <tr>\n",
       "      <th>timestamp</th>\n",
       "      <th></th>\n",
       "    </tr>\n",
       "  </thead>\n",
       "  <tbody>\n",
       "    <tr>\n",
       "      <th>1984-03-23 12:00:00</th>\n",
       "      <td>6281.25</td>\n",
       "    </tr>\n",
       "    <tr>\n",
       "      <th>1984-03-24 12:00:00</th>\n",
       "      <td>6309.38</td>\n",
       "    </tr>\n",
       "    <tr>\n",
       "      <th>1984-03-25 12:00:00</th>\n",
       "      <td>6300.00</td>\n",
       "    </tr>\n",
       "    <tr>\n",
       "      <th>1984-03-26 12:00:00</th>\n",
       "      <td>6293.75</td>\n",
       "    </tr>\n",
       "    <tr>\n",
       "      <th>1984-03-27 12:00:00</th>\n",
       "      <td>6325.00</td>\n",
       "    </tr>\n",
       "  </tbody>\n",
       "</table>\n",
       "</div>"
      ],
      "text/plain": [
       "                       Value\n",
       "timestamp                   \n",
       "1984-03-23 12:00:00  6281.25\n",
       "1984-03-24 12:00:00  6309.38\n",
       "1984-03-25 12:00:00  6300.00\n",
       "1984-03-26 12:00:00  6293.75\n",
       "1984-03-27 12:00:00  6325.00"
      ]
     },
     "execution_count": 4,
     "metadata": {},
     "output_type": "execute_result"
    }
   ],
   "source": [
    "ts_dataframe.loc[\"D185\"].head()"
   ]
  },
  {
   "cell_type": "code",
   "execution_count": 5,
   "id": "7f423b4e-445f-468b-84a4-9d16a675bc80",
   "metadata": {},
   "outputs": [
    {
     "data": {
      "image/png": "[encoded data removed]",
      "text/plain": [
       "<Figure size 1440x216 with 1 Axes>"
      ]
     },
     "metadata": {
      "needs_background": "light"
     },
     "output_type": "display_data"
    },
    {
     "data": {
      "image/png": "[encoded data removed]",
      "text/plain": [
       "<Figure size 1440x216 with 1 Axes>"
      ]
     },
     "metadata": {
      "needs_background": "light"
     },
     "output_type": "display_data"
    }
   ],
   "source": [
    "for item_id in [\"D185\", \"D1737\"]:\n",
    "    plt.figure(figsize=(20, 3))\n",
    "    plt.plot(ts_dataframe.loc[item_id], label=item_id)"
   ]
  },
  {
   "cell_type": "markdown",
   "id": "0c55cc81-619b-4b11-8a26-33975c37b501",
   "metadata": {},
   "source": [
    "\n",
    "## Forecasting problem formulation\n",
    "Models in `autogluon.timeseries` provide _probabilistic_ forecasts of time series _multiple steps_ into the future.\n",
    "We choose the number of these steps---the _prediction length_ (also known as the _forecast horizon_) depending on our task.\n",
    "For example, our dataset contains time series measured at hourly _frequency_, so we set `prediction_length = 48` to train models that forecast 48 hours into the future.\n",
    "Moreover, forecasts are probabilistic: in addition to predicting the _mean_ (expected value) of the time series in the future, models also provide the _quantiles_ of the forecast distribution.\n",
    "\n",
    "In order to report realistic results for how AutoGluon will perform on unseen data; we will split our dataset into a training set, used to train & tune models, and a test set used to evaluate the final performance.\n",
    "In forecasting, this is usually done by hiding the last `prediction_length` steps of each time series during training, and only using these last steps to evaluate the forecast quality (also known as \"out of time validation\").\n",
    "We perform this split using the `slice_by_timestep` method of `TimeSeriesDataFrame`.\n"
   ]
  },
  {
   "cell_type": "code",
   "execution_count": 6,
   "id": "c0236203-1228-46eb-b068-82e109a37a15",
   "metadata": {},
   "outputs": [],
   "source": [
    "prediction_length = 48\n",
    "\n",
    "test_data = ts_dataframe  # the full data set\n",
    "\n",
    "# last prediction_length timesteps of each time series are excluded, akin to `x[:-48]`\n",
    "train_data = ts_dataframe.slice_by_timestep(None, -prediction_length)"
   ]
  },
  {
   "cell_type": "markdown",
   "id": "dda461ba-de59-44c8-a872-ece844692b40",
   "metadata": {},
   "source": [
    "Below, we plot the training and test parts of the time series for a single item, and mark the test forecast horizon.\n",
    "We will compute the test scores by measuring how well the forecast generated by a model matches the actually observed values in the forecast horizon.\n"
   ]
  },
  {
   "cell_type": "code",
   "execution_count": 7,
   "id": "7a7eba54-e057-4ef3-b0af-a01ad8df69c1",
   "metadata": {},
   "outputs": [
    {
     "data": {
      "image/png": "[encoded data removed]",
      "text/plain": [
       "<Figure size 1440x216 with 1 Axes>"
      ]
     },
     "metadata": {
      "needs_background": "light"
     },
     "output_type": "display_data"
    }
   ],
   "source": [
    "item_id = \"D185\"\n",
    "plt.figure(figsize=(20, 3))\n",
    "train_series = train_data.loc[item_id][\"Value\"]\n",
    "test_series = test_data.loc[item_id][\"Value\"]\n",
    "plt.plot(test_series, label=\"Test\")\n",
    "plt.plot(train_series, label=\"Train\")\n",
    "\n",
    "plt.fill_betweenx(\n",
    "    y=(test_series.min(), test_series.max()),\n",
    "    x1=train_series.index[-1],\n",
    "    x2=test_series.index[-1],\n",
    "    alpha=0.2,\n",
    "    label=\"Test forecast horizon\",\n",
    ")\n",
    "\n",
    "plt.legend();"
   ]
  },
  {
   "cell_type": "markdown",
   "id": "91e1b5a3-2079-4b98-978c-f45aa9d8ac9a",
   "metadata": {},
   "source": [
    "\n",
    "## Training time series models with `TimeSeriesPredictor.fit`\n",
    "\n",
    "Below we instantiate a `TimeSeriesPredictor` object and instruct AutoGluon to fit models that can forecast up to\n",
    "48 timesteps into the future (`prediction_length`) and save them in the folder `./autogluon-m4-hourly`.\n",
    "We also specify that AutoGluon should rank models according to mean absolute percentage error (MAPE), and that data that we want to forecast is stored in the column `\"Value\"` of the `TimeSeriesDataFrame`.\n"
   ]
  },
  {
   "cell_type": "code",
   "execution_count": null,
   "id": "927b4219-6cfc-4f0e-82e3-55310ab898ca",
   "metadata": {},
   "outputs": [
    {
     "name": "stderr",
     "output_type": "stream",
     "text": [
      "Warning: path already exists! This predictor may overwrite an existing predictor! path=\"autogluon-m4-hourly\"\n",
      "================ TimeSeriesPredictor ================\n",
      "TimeSeriesPredictor.fit() called\n",
      "Setting presets to: medium_quality\n",
      "Fitting with arguments:\n",
      "{'enable_ensemble': True,\n",
      " 'evaluation_metric': 'MAPE',\n",
      " 'hyperparameter_tune_kwargs': None,\n",
      " 'hyperparameters': 'medium_quality',\n",
      " 'prediction_length': 48,\n",
      " 'random_seed': None,\n",
      " 'target': 'Value',\n",
      " 'time_limit': 600}\n",
      "Provided training data set with 239660 rows, 100 items (item = single time series). Average time series length is 2396.6.\n",
      "Training artifacts will be saved to: /local/home/atturkm/workplace/ws_autogluon/scripts/autogluon-m4-hourly\n",
      "=====================================================\n",
      "AutoGluon will save models to autogluon-m4-hourly/\n",
      "AutoGluon will gauge predictive performance using evaluation metric: 'MAPE'\n",
      "\tThis metric's sign has been flipped to adhere to being 'higher is better'. The reported score can be multiplied by -1 to get the metric value.\n",
      "tuning_data is None. Will use the last prediction_length = 48 time steps of each time series as a hold-out validation set.\n",
      "\n",
      "Starting training. Start time is 2022-12-13 20:08:51\n",
      "No path specified. Models will be saved in: \"AutogluonModels/ag-20221213_200851/\"\n",
      "Models that will be trained: ['Naive', 'SeasonalNaive', 'ETS', 'Theta', 'ARIMA', 'AutoGluonTabular', 'DeepAR']\n",
      "Training timeseries model Naive. Training for up to 599.90s of the 599.90s of remaining time.\n",
      "\t-0.0433       = Validation score (-MAPE)\n",
      "\t0.00    s     = Training runtime\n",
      "\t29.57   s     = Validation (prediction) runtime\n",
      "Training timeseries model SeasonalNaive. Training for up to 570.32s of the 570.32s of remaining time.\n",
      "\t-0.0472       = Validation score (-MAPE)\n",
      "\t0.00    s     = Training runtime\n",
      "\t0.53    s     = Validation (prediction) runtime\n",
      "Training timeseries model ETS. Training for up to 569.78s of the 569.78s of remaining time.\n",
      "\t-0.0455       = Validation score (-MAPE)\n",
      "\t0.00    s     = Training runtime\n",
      "\t2.33    s     = Validation (prediction) runtime\n",
      "Training timeseries model Theta. Training for up to 567.44s of the 567.44s of remaining time.\n",
      "\t-0.0443       = Validation score (-MAPE)\n",
      "\t0.00    s     = Training runtime\n",
      "\t2.55    s     = Validation (prediction) runtime\n",
      "Training timeseries model ARIMA. Training for up to 564.88s of the 564.88s of remaining time.\n",
      "\t-0.0452       = Validation score (-MAPE)\n",
      "\t0.00    s     = Training runtime\n",
      "\t5.15    s     = Validation (prediction) runtime\n",
      "Training timeseries model AutoGluonTabular. Training for up to 559.72s of the 559.72s of remaining time.\n",
      "\t-0.0661       = Validation score (-MAPE)\n",
      "\t7.76    s     = Training runtime\n",
      "\t1.18    s     = Validation (prediction) runtime\n",
      "Training timeseries model DeepAR. Training for up to 550.77s of the 550.77s of remaining time.\n"
     ]
    }
   ],
   "source": [
    "predictor = TimeSeriesPredictor(\n",
    "    path=\"autogluon-m4-hourly\",\n",
    "    target=\"Value\",\n",
    "    prediction_length=prediction_length,\n",
    "    eval_metric=\"MAPE\",\n",
    ")\n",
    "\n",
    "predictor.fit(\n",
    "    train_data,\n",
    "    presets=\"medium_quality\",\n",
    "    time_limit=600,\n",
    ")"
   ]
  },
  {
   "cell_type": "markdown",
   "id": "7dad5293-b9e3-4edb-9907-628e5ad31176",
   "metadata": {},
   "source": [
    "Here we used the `\"medium_quality\"` presets and limited the training time to 10 minutes (600 seconds).\n",
    "The presets define which models AutoGluon will try to fit.\n",
    "For `medium_quality` presets, these are \n",
    "- simple baselines (`Naive`, `SeasonalNaive`), \n",
    "- statistical models (`ARIMA`, `ETS`, `Theta`), \n",
    "- tree-based models XGBoost, LightGBM and CatBoost wrapped by `AutoGluonTabular`,\n",
    "- a deep learning model `DeepAR`,\n",
    "- and a weighted ensemble combining these.\n",
    "Other available presets for `TimeSeriesPredictor` are `\"fast_training\"` `\"high_quality\"` and `\"best_quality\"`.\n",
    "Higher quality presets will usually produce more accurate forecasts but take longer to train and may produce less computationally efficient models.\n",
    "\n",
    "Inside `fit()`, AutoGluon will train as many models as possible within the given time limit.\n",
    "Trained models are then ranked based on their performance on an internal validation set.\n",
    "By default, this validation set is constructed by holding out the last `prediction_length` timesteps of each time series in `train_data`.\n"
   ]
  },
  {
   "cell_type": "markdown",
   "id": "2152f019-e044-41eb-8b62-1104ce23214e",
   "metadata": {},
   "source": [
    "## Evaluating the performance of different models\n",
    "\n",
    "We can view the test performance of each model AutoGluon has trained via the `leaderboard()` method.\n",
    "We provide the test data set to the leaderboard function to see how well our fitted models are doing on the held out test data.\n",
    "The leaderboard also includes the validation scores computed on the internal validation dataset.\n",
    "\n",
    "In AutoGluon leaderboards, higher scores always correspond to better predictive performance.\n",
    "Therefore our MAPE scores are multiplied by `-1`, such that higher \"negative MAPE\"s correspond to more accurate forecasts.\n"
   ]
  },
  {
   "cell_type": "code",
   "execution_count": null,
   "id": "ad77a079-4426-4fac-a795-edd93351cac3",
   "metadata": {},
   "outputs": [],
   "source": [
    "predictor.leaderboard(test_data, silent=True)"
   ]
  },
  {
   "cell_type": "markdown",
   "id": "7b749279-e67c-4e9b-94b3-c71cea55228f",
   "metadata": {},
   "source": [
    "## Generating forecasts with `TimeSeriesPredictor.predict`\n",
    "\n",
    "We can now use the fitted `TimeSeriesPredictor` to make predictions.\n",
    "By default, AutoGluon will make forecasts using the model that had the best validation score (as shown in the leaderboard).\n",
    "Let's use the predictor to generate forecasts starting from the end of the time series in `train_data`"
   ]
  },
  {
   "cell_type": "code",
   "execution_count": null,
   "id": "1fa86d4b-2d86-423d-b02c-2a29f2d39231",
   "metadata": {},
   "outputs": [],
   "source": [
    "predictions = predictor.predict(train_data)\n",
    "predictions.head()"
   ]
  },
  {
   "cell_type": "markdown",
   "id": "b9ddba1a-88f0-48f3-a83a-8b08e3ad85fd",
   "metadata": {},
   "source": [
    "Predictions are also stored as a `TimeSeriesDataFrame`. However, now the columns contain the mean and quantile predictions of each model.\n",
    "The quantile forecasts give us an idea about the range of possible outcomes.\n",
    "For example, if the `\"0.1\"` quantile is equal to `501.3`, it means that the model predicts a 10% chance that the target value will be below `501.3`.\n",
    "\n",
    "We will now visualize the forecast and the actually observed values for one of the time series in the dataset.\n",
    "We plot the mean forecast, as well as the 10% and 90% quantiles to show the range of potential outcomes."
   ]
  },
  {
   "cell_type": "code",
   "execution_count": null,
   "id": "a9347fb9-cdd5-4b6d-8765-501cb0947f38",
   "metadata": {},
   "outputs": [],
   "source": [
    "plt.figure(figsize=(20, 3))\n",
    "\n",
    "item_id = \"D185\"\n",
    "y_past = train_data.loc[item_id][\"Value\"]\n",
    "y_pred = predictions.loc[item_id]\n",
    "y_true = test_data.loc[item_id][\"Value\"][-prediction_length:]\n",
    "\n",
    "# prepend the last value of true range to predicted range for plotting continuity\n",
    "y_pred.loc[y_past.index[-1]] = [y_past[-1]] * 10\n",
    "y_pred = y_pred.sort_index()\n",
    "\n",
    "plt.plot(y_past[-200:], label=\"Training data\")\n",
    "plt.plot(y_pred[\"mean\"], label=\"Mean forecast\")\n",
    "plt.plot(y_true, label=\"Observed\")\n",
    "\n",
    "plt.fill_between(\n",
    "    y_pred.index, y_pred[\"0.1\"], y_pred[\"0.9\"], color=\"red\", alpha=0.1, label=f\"10%-90% confidence interval\"\n",
    ")\n",
    "plt.title(\"Forecasted time series values vs. the real observations\")\n",
    "plt.legend();\n"
   ]
  }
 ],
 "metadata": {
  "kernelspec": {
   "display_name": "Python 3",
   "language": "python",
   "name": "python3"
  },
  "language_info": {
   "codemirror_mode": {
    "name": "ipython",
    "version": 3
   },
   "file_extension": ".py",
   "mimetype": "text/x-python",
   "name": "python",
   "nbconvert_exporter": "python",
   "pygments_lexer": "ipython3",
   "version": "3.8.13"
  }
 },
 "nbformat": 4,
 "nbformat_minor": 5
}
